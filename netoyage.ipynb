{
 "cells": [
  {
   "cell_type": "code",
   "execution_count": 5,
   "metadata": {},
   "outputs": [
    {
     "name": "stderr",
     "output_type": "stream",
     "text": [
      "WARNING: Ignoring invalid distribution -atplotlib (c:\\users\\natha\\appdata\\local\\programs\\python\\python39\\lib\\site-packages)\n",
      "ERROR: Could not find a version that satisfies the requirement re (from versions: none)\n",
      "ERROR: No matching distribution found for re\n",
      "\n",
      "[notice] A new release of pip is available: 24.0 -> 24.2\n",
      "[notice] To update, run: python.exe -m pip install --upgrade pip\n"
     ]
    }
   ],
   "source": [
    "!python -m pip install pysrt"
   ]
  },
  {
   "cell_type": "code",
   "execution_count": 7,
   "metadata": {},
   "outputs": [],
   "source": [
    "import pandas as pd\n",
    "import numpy as np\n",
    "import pysrt\n",
    "import re as re"
   ]
  },
  {
   "cell_type": "markdown",
   "metadata": {},
   "source": [
    "# ouverture"
   ]
  },
  {
   "cell_type": "code",
   "execution_count": 2,
   "metadata": {},
   "outputs": [],
   "source": [
    "# Charger le fichier SRT\n",
    "with open('sous-titres/24/24s07e09VO.srt', 'r', encoding='ISO-8859-1') as fichier:\n",
    "    contenu = fichier.read()"
   ]
  },
  {
   "cell_type": "code",
   "execution_count": 3,
   "metadata": {},
   "outputs": [],
   "source": [
    "def ouverture_fichier(nom):\n",
    "    with open('nom', 'r', encoding='ISO-8859-1') as fichier:\n",
    "        contenu = fichier.read()\n",
    "    return(contenu)"
   ]
  },
  {
   "cell_type": "markdown",
   "metadata": {},
   "source": [
    "# traitemant mone fichier"
   ]
  },
  {
   "cell_type": "markdown",
   "metadata": {},
   "source": [
    "regex a utiliser (?!\\d+\\s+\\d{2}:\\d{2}:\\d{2},\\d{3} --> \\d{2}:\\d{2}:\\d{2},\\d{3}).+"
   ]
  },
  {
   "cell_type": "code",
   "execution_count": null,
   "metadata": {},
   "outputs": [],
   "source": [
    "def enlever_marqueur_temps(episode):\n",
    "    # Enlever les lignes correspondant aux timecodes et indices\n",
    "    result = re.sub(r\"\\d+\\s+\\d{2}:\\d{2}:\\d{2},\\d{3} --> \\d{2}:\\d{2}:\\d{2},\\d{3}\\s*\", '', episode)\n",
    "\n",
    "    # Afficher le résultat\n",
    "    return(result)\n",
    "result=enlever_marqueur_temps(contenu)\n",
    "print(result)"
   ]
  },
  {
   "cell_type": "markdown",
   "metadata": {},
   "source": [
    "## retirer la mise en page "
   ]
  },
  {
   "cell_type": "markdown",
   "metadata": {},
   "source": [
    "regex a utiliser r\"\\n*\""
   ]
  },
  {
   "cell_type": "code",
   "execution_count": null,
   "metadata": {},
   "outputs": [],
   "source": [
    "def elever_retours_ligne(episode):\n",
    "    # Enlever les lignes correspondant aux timecodes et indices\n",
    "    result = re.sub(r\"\\n*\", '', episode)\n",
    "    # Afficher le résultat\n",
    "    return(result)\n",
    "result2=elever_retours_ligne(result)\n",
    "print(result2)"
   ]
  },
  {
   "cell_type": "markdown",
   "metadata": {},
   "source": [
    "## virer les mots inutil WIP"
   ]
  },
  {
   "cell_type": "code",
   "execution_count": null,
   "metadata": {},
   "outputs": [],
   "source": [
    "def enlever_ponctuation(episode):\n",
    "    result = re.sub(\"[^\\w\\s]+\", '', episode)\n",
    "    # Afficher le résultat\n",
    "    return(result)\n",
    "result3=elever_retours_ligne(result2)\n",
    "print(result3)"
   ]
  }
 ],
 "metadata": {
  "kernelspec": {
   "display_name": "Python 3",
   "language": "python",
   "name": "python3"
  },
  "language_info": {
   "codemirror_mode": {
    "name": "ipython",
    "version": 3
   },
   "file_extension": ".py",
   "mimetype": "text/x-python",
   "name": "python",
   "nbconvert_exporter": "python",
   "pygments_lexer": "ipython3",
   "version": "3.9.7"
  }
 },
 "nbformat": 4,
 "nbformat_minor": 2
}
